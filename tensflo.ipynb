{
  "cells": [
    {
      "cell_type": "code",
      "execution_count": 1,
      "metadata": {
        "id": "Kg3KM_duucLT"
      },
      "outputs": [],
      "source": [
        "import tensorflow as tf"
      ]
    },
    {
      "cell_type": "code",
      "execution_count": 2,
      "metadata": {
        "id": "TTPD88G2ufdC"
      },
      "outputs": [],
      "source": [
        "out = tf.random.normal([10,10])"
      ]
    },
    {
      "cell_type": "code",
      "execution_count": 3,
      "metadata": {
        "colab": {
          "base_uri": "https://localhost:8080/"
        },
        "id": "pGpST9DWupBl",
        "outputId": "e3dc6d2b-c2f5-4224-a4ec-7935599245e3"
      },
      "outputs": [
        {
          "data": {
            "text/plain": [
              "<tf.Tensor: shape=(10, 10), dtype=float32, numpy=\n",
              "array([[-0.01597639,  1.3664459 , -1.6160903 , -0.34370026,  1.0377682 ,\n",
              "        -0.2266074 ,  0.02064795,  1.1520959 ,  0.10231864, -0.04111759],\n",
              "       [ 0.17452724,  0.3887003 ,  0.1191181 ,  0.885783  , -1.4503514 ,\n",
              "         1.2521029 ,  0.57200694, -0.30865148, -0.40633073,  0.02463236],\n",
              "       [-1.1530709 ,  0.06415338, -0.03132118,  1.3785287 ,  0.555266  ,\n",
              "        -0.62659574,  0.02659829,  0.34762752, -0.7253514 ,  0.3413014 ],\n",
              "       [ 0.9129736 , -0.8206592 ,  0.01474554, -0.17788167,  0.10352934,\n",
              "         1.2443781 ,  0.93194896,  1.240582  , -1.9567071 ,  0.03125641],\n",
              "       [ 0.63244426,  0.30570942, -0.812482  , -0.3971484 ,  0.8117377 ,\n",
              "         0.18702915,  1.9385656 , -1.5532045 ,  1.3225857 ,  0.29572007],\n",
              "       [ 0.31282172, -1.1167876 ,  1.6380948 , -2.043683  ,  0.4322391 ,\n",
              "         0.2956094 ,  0.3537698 ,  2.3451278 ,  0.2002587 , -0.6262249 ],\n",
              "       [ 0.4837452 , -1.2385434 , -0.75873727, -1.136308  , -0.19617628,\n",
              "        -0.15107638,  0.04687303,  1.0274421 , -0.67317086, -0.06769793],\n",
              "       [-0.7452518 ,  1.8598677 , -1.1075748 , -0.70489204, -1.0642602 ,\n",
              "         1.0484953 , -1.8000218 ,  0.45264152,  0.47089088,  0.6964403 ],\n",
              "       [ 1.4253755 ,  1.5499163 ,  0.71174484, -0.93211573, -1.3832914 ,\n",
              "        -0.29346895, -0.65452784, -0.17713451, -0.24488272,  1.3525211 ],\n",
              "       [ 0.4611485 ,  1.087727  , -0.04024917, -0.18234067,  0.27822942,\n",
              "        -0.7069993 ,  0.45229024, -0.31509268,  0.6779528 , -0.7775731 ]],\n",
              "      dtype=float32)>"
            ]
          },
          "execution_count": 3,
          "metadata": {},
          "output_type": "execute_result"
        }
      ],
      "source": [
        "out"
      ]
    },
    {
      "cell_type": "code",
      "execution_count": 4,
      "metadata": {
        "id": "ChRJp-dluq8v"
      },
      "outputs": [],
      "source": [
        "out = tf.nn.softmax(out,axis=1)"
      ]
    },
    {
      "cell_type": "code",
      "execution_count": 5,
      "metadata": {
        "colab": {
          "base_uri": "https://localhost:8080/"
        },
        "id": "vkymKE01u1fG",
        "outputId": "8aafeb8d-21e9-47a7-f3f1-b25c0923b1c5"
      },
      "outputs": [
        {
          "data": {
            "text/plain": [
              "<tf.Tensor: shape=(10, 10), dtype=float32, numpy=\n",
              "array([[0.06273816, 0.2499828 , 0.01266517, 0.04520673, 0.17995638,\n",
              "        0.05082248, 0.0650785 , 0.2017526 , 0.07061657, 0.06118051],\n",
              "       [0.08416749, 0.1042698 , 0.07963068, 0.17141104, 0.01657557,\n",
              "        0.24724612, 0.12524708, 0.05191615, 0.04708482, 0.07245123],\n",
              "       [0.02441242, 0.08246023, 0.07495152, 0.306952  , 0.134751  ,\n",
              "        0.0413291 , 0.07942086, 0.10948529, 0.03744268, 0.10879486],\n",
              "       [0.150705  , 0.02662076, 0.06138075, 0.05062619, 0.0670796 ,\n",
              "        0.20992048, 0.15359199, 0.20912512, 0.00854754, 0.06240261],\n",
              "       [0.09377824, 0.0676399 , 0.02210948, 0.03349312, 0.11219362,\n",
              "        0.06007043, 0.34621298, 0.01054112, 0.18699357, 0.06696758],\n",
              "       [0.05825758, 0.01394701, 0.21923569, 0.00551995, 0.06564698,\n",
              "        0.05726342, 0.06069263, 0.4446024 , 0.05205555, 0.02277874],\n",
              "       [0.16776025, 0.02997151, 0.04842681, 0.03319777, 0.08499687,\n",
              "        0.08891798, 0.10838219, 0.28894398, 0.05275296, 0.09664967],\n",
              "       [0.0291781 , 0.39486256, 0.02030963, 0.0303798 , 0.02120866,\n",
              "        0.17541689, 0.01016193, 0.09667081, 0.0984512 , 0.12336043],\n",
              "       [0.22722243, 0.25735855, 0.11130774, 0.02150829, 0.01369818,\n",
              "        0.04073489, 0.02838969, 0.04576042, 0.04276292, 0.21125692],\n",
              "       [0.12301209, 0.23017988, 0.07450639, 0.06463742, 0.10244884,\n",
              "        0.03824967, 0.12192722, 0.05660184, 0.15279344, 0.03564329]],\n",
              "      dtype=float32)>"
            ]
          },
          "execution_count": 5,
          "metadata": {},
          "output_type": "execute_result"
        }
      ],
      "source": [
        "out"
      ]
    },
    {
      "cell_type": "code",
      "execution_count": 6,
      "metadata": {
        "id": "1-DZEKnJu23x"
      },
      "outputs": [],
      "source": [
        "pred = tf.argmax(out,axis=1)"
      ]
    },
    {
      "cell_type": "code",
      "execution_count": 7,
      "metadata": {
        "colab": {
          "base_uri": "https://localhost:8080/"
        },
        "id": "E95xfTbtvR4R",
        "outputId": "a7a4ffb2-dbb1-4096-a233-bd012164768a"
      },
      "outputs": [
        {
          "data": {
            "text/plain": [
              "<tf.Tensor: shape=(10,), dtype=int64, numpy=array([1, 5, 3, 5, 6, 7, 7, 1, 1, 1], dtype=int64)>"
            ]
          },
          "execution_count": 7,
          "metadata": {},
          "output_type": "execute_result"
        }
      ],
      "source": [
        "pred"
      ]
    },
    {
      "cell_type": "code",
      "execution_count": 8,
      "metadata": {
        "id": "GesFDfAsvTEB"
      },
      "outputs": [],
      "source": [
        "#stimulate the true values\n",
        "t=tf.random.uniform([10],dtype=tf.int64,maxval=10)"
      ]
    },
    {
      "cell_type": "code",
      "execution_count": 9,
      "metadata": {
        "colab": {
          "base_uri": "https://localhost:8080/"
        },
        "id": "-8Zk3rh1vnqX",
        "outputId": "b25900f4-f588-483a-f9eb-17d00c8d38da"
      },
      "outputs": [
        {
          "data": {
            "text/plain": [
              "<tf.Tensor: shape=(10,), dtype=int64, numpy=array([5, 5, 0, 2, 0, 3, 9, 0, 1, 6], dtype=int64)>"
            ]
          },
          "execution_count": 9,
          "metadata": {},
          "output_type": "execute_result"
        }
      ],
      "source": [
        "t"
      ]
    },
    {
      "cell_type": "code",
      "execution_count": 10,
      "metadata": {
        "id": "2X4iGgvmvpV6"
      },
      "outputs": [],
      "source": [
        "out = tf.equal(pred,t)"
      ]
    },
    {
      "cell_type": "code",
      "execution_count": 11,
      "metadata": {
        "colab": {
          "base_uri": "https://localhost:8080/"
        },
        "id": "etE0XDfgwuJ9",
        "outputId": "e3b83769-0eb3-4b3c-e8f5-c7bd958f92af"
      },
      "outputs": [
        {
          "data": {
            "text/plain": [
              "<tf.Tensor: shape=(10,), dtype=bool, numpy=\n",
              "array([False,  True, False, False, False, False, False, False,  True,\n",
              "       False])>"
            ]
          },
          "execution_count": 11,
          "metadata": {},
          "output_type": "execute_result"
        }
      ],
      "source": [
        "out"
      ]
    },
    {
      "cell_type": "code",
      "execution_count": 12,
      "metadata": {
        "id": "vhYuh4cHwv5j"
      },
      "outputs": [],
      "source": [
        "out =tf.math.greater(pred,t)#greater"
      ]
    },
    {
      "cell_type": "code",
      "execution_count": 13,
      "metadata": {
        "colab": {
          "base_uri": "https://localhost:8080/"
        },
        "id": "TaUXjxg9w966",
        "outputId": "13d12bf6-fff5-41c6-8fbd-f90296cd2d04"
      },
      "outputs": [
        {
          "data": {
            "text/plain": [
              "<tf.Tensor: shape=(10,), dtype=bool, numpy=\n",
              "array([False, False,  True,  True,  True,  True, False,  True, False,\n",
              "       False])>"
            ]
          },
          "execution_count": 13,
          "metadata": {},
          "output_type": "execute_result"
        }
      ],
      "source": [
        "out"
      ]
    }
  ],
  "metadata": {
    "colab": {
      "provenance": []
    },
    "kernelspec": {
      "display_name": "Python 3",
      "name": "python3"
    },
    "language_info": {
      "codemirror_mode": {
        "name": "ipython",
        "version": 3
      },
      "file_extension": ".py",
      "mimetype": "text/x-python",
      "name": "python",
      "nbconvert_exporter": "python",
      "pygments_lexer": "ipython3",
      "version": "3.10.7"
    }
  },
  "nbformat": 4,
  "nbformat_minor": 0
}
