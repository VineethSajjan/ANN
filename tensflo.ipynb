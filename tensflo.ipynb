{
  "cells": [
    {
      "cell_type": "code",
      "execution_count": 1,
      "metadata": {
        "id": "Kg3KM_duucLT"
      },
      "outputs": [],
      "source": [
        "import tensorflow as tf"
      ]
    },
    {
      "cell_type": "code",
      "execution_count": 2,
      "metadata": {
        "id": "TTPD88G2ufdC"
      },
      "outputs": [],
      "source": [
        "out = tf.random.normal([10,10])"
      ]
    },
    {
      "cell_type": "code",
      "execution_count": 3,
      "metadata": {
        "colab": {
          "base_uri": "https://localhost:8080/"
        },
        "id": "pGpST9DWupBl",
        "outputId": "e3dc6d2b-c2f5-4224-a4ec-7935599245e3"
      },
      "outputs": [
        {
          "data": {
            "text/plain": [
              "<tf.Tensor: shape=(10, 10), dtype=float32, numpy=\n",
              "array([[ 1.0556035 , -1.5369633 , -0.12314512,  2.0703313 , -0.82220924,\n",
              "         0.38238478, -0.7237324 , -0.96389455,  0.3249465 , -0.5990914 ],\n",
              "       [-0.82418674,  0.18389426, -2.112837  ,  0.7129274 , -2.1593423 ,\n",
              "        -0.6031562 , -0.76204735, -1.2756188 , -2.7180648 ,  0.44344148],\n",
              "       [ 0.6624468 ,  2.1776805 ,  0.8931816 , -0.5183056 ,  0.06475206,\n",
              "         0.57676214,  1.377201  , -0.23611915, -0.38549107, -0.3142977 ],\n",
              "       [ 0.66293895, -0.9087488 , -0.6271027 , -0.16027912, -0.806617  ,\n",
              "        -0.48899636, -0.1889427 ,  1.5090492 , -0.2201459 , -0.6988514 ],\n",
              "       [ 0.38352752,  0.3732753 , -0.53802073,  0.7745084 ,  0.44551352,\n",
              "        -0.37486553,  0.4353031 ,  1.7791749 , -0.35623375, -0.03819746],\n",
              "       [-0.10887493, -1.550203  ,  0.3273064 , -0.5385988 , -0.1902615 ,\n",
              "        -1.0994475 ,  0.48238868, -0.6526342 ,  0.37708607, -0.10834747],\n",
              "       [ 0.18108338,  0.532856  ,  1.3552439 ,  0.8540276 ,  0.0746709 ,\n",
              "         1.0806702 ,  0.6769536 , -1.3817139 ,  1.4424487 ,  2.9940667 ],\n",
              "       [-0.07275667,  0.38641304, -0.39769498,  1.6081487 , -1.771856  ,\n",
              "         1.5430039 ,  0.36974543,  0.9142355 , -0.03025967,  0.4276378 ],\n",
              "       [ 0.29084432, -0.2245818 , -0.28692782,  1.4011407 , -0.70673066,\n",
              "         0.03277505,  0.08236162, -0.13663734, -0.04972006, -1.1652366 ],\n",
              "       [-1.3560702 , -0.21780278, -0.5683773 , -1.7185928 ,  1.2396224 ,\n",
              "        -1.695045  , -0.6380206 , -0.77403235,  1.5824215 ,  0.7280555 ]],\n",
              "      dtype=float32)>"
            ]
          },
          "execution_count": 3,
          "metadata": {},
          "output_type": "execute_result"
        }
      ],
      "source": [
        "out"
      ]
    },
    {
      "cell_type": "code",
      "execution_count": 4,
      "metadata": {
        "id": "ChRJp-dluq8v"
      },
      "outputs": [],
      "source": [
        "out = tf.nn.softmax(out,axis=1)"
      ]
    },
    {
      "cell_type": "code",
      "execution_count": 5,
      "metadata": {
        "colab": {
          "base_uri": "https://localhost:8080/"
        },
        "id": "vkymKE01u1fG",
        "outputId": "8aafeb8d-21e9-47a7-f3f1-b25c0923b1c5"
      },
      "outputs": [
        {
          "data": {
            "text/plain": [
              "<tf.Tensor: shape=(10, 10), dtype=float32, numpy=\n",
              "array([[0.17306107, 0.01294977, 0.05324457, 0.4774084 , 0.02646523,\n",
              "        0.08827224, 0.02920408, 0.02296902, 0.08334491, 0.03308069],\n",
              "       [0.06417934, 0.17587303, 0.01769056, 0.29850763, 0.01688669,\n",
              "        0.08005483, 0.06829392, 0.04086399, 0.00965816, 0.22799177],\n",
              "       [0.08501195, 0.3868456 , 0.1070747 , 0.02610272, 0.04676323,\n",
              "        0.07803109, 0.1737376 , 0.03461288, 0.0298103 , 0.03200997],\n",
              "       [0.16963804, 0.03523286, 0.04669445, 0.07447391, 0.03902143,\n",
              "        0.05360978, 0.07236953, 0.39535227, 0.07014623, 0.04346155],\n",
              "       [0.086041  , 0.08516338, 0.03423593, 0.1272056 , 0.09154309,\n",
              "        0.0403032 , 0.09061315, 0.34739804, 0.04106116, 0.05643552],\n",
              "       [0.10266533, 0.02429198, 0.15880162, 0.06680316, 0.09464071,\n",
              "        0.0381262 , 0.18544123, 0.05960355, 0.16690677, 0.10271949],\n",
              "       [0.03028843, 0.04305758, 0.09799596, 0.05936531, 0.02723092,\n",
              "        0.07446674, 0.04973137, 0.00634691, 0.10692536, 0.5045914 ],\n",
              "       [0.04802419, 0.07601073, 0.03470093, 0.25790986, 0.00878113,\n",
              "        0.24164395, 0.07475431, 0.12885618, 0.05010906, 0.07920974],\n",
              "       [0.11437137, 0.06830785, 0.06417917, 0.3471466 , 0.04217703,\n",
              "        0.08835665, 0.09284841, 0.07458722, 0.08136022, 0.02666548],\n",
              "       [0.0192682 , 0.06014292, 0.04235766, 0.0134091 , 0.25830704,\n",
              "        0.0137286 , 0.03950811, 0.03448396, 0.3639251 , 0.15486938]],\n",
              "      dtype=float32)>"
            ]
          },
          "execution_count": 5,
          "metadata": {},
          "output_type": "execute_result"
        }
      ],
      "source": [
        "out"
      ]
    },
    {
      "cell_type": "code",
      "execution_count": 6,
      "metadata": {
        "id": "1-DZEKnJu23x"
      },
      "outputs": [],
      "source": [
        "pred = tf.argmax(out,axis=1)"
      ]
    },
    {
      "cell_type": "code",
      "execution_count": 7,
      "metadata": {
        "colab": {
          "base_uri": "https://localhost:8080/"
        },
        "id": "E95xfTbtvR4R",
        "outputId": "a7a4ffb2-dbb1-4096-a233-bd012164768a"
      },
      "outputs": [
        {
          "data": {
            "text/plain": [
              "<tf.Tensor: shape=(10,), dtype=int64, numpy=array([3, 3, 1, 7, 7, 6, 9, 3, 3, 8], dtype=int64)>"
            ]
          },
          "execution_count": 7,
          "metadata": {},
          "output_type": "execute_result"
        }
      ],
      "source": [
        "pred"
      ]
    },
    {
      "cell_type": "code",
      "execution_count": 8,
      "metadata": {
        "id": "GesFDfAsvTEB"
      },
      "outputs": [],
      "source": [
        "#stimulate the true values\n",
        "t=tf.random.uniform([10],dtype=tf.int64,maxval=10)"
      ]
    },
    {
      "cell_type": "code",
      "execution_count": 9,
      "metadata": {
        "colab": {
          "base_uri": "https://localhost:8080/"
        },
        "id": "-8Zk3rh1vnqX",
        "outputId": "b25900f4-f588-483a-f9eb-17d00c8d38da"
      },
      "outputs": [
        {
          "data": {
            "text/plain": [
              "<tf.Tensor: shape=(10,), dtype=int64, numpy=array([3, 0, 7, 8, 0, 5, 6, 4, 9, 6], dtype=int64)>"
            ]
          },
          "execution_count": 9,
          "metadata": {},
          "output_type": "execute_result"
        }
      ],
      "source": [
        "t"
      ]
    },
    {
      "cell_type": "code",
      "execution_count": 10,
      "metadata": {
        "id": "2X4iGgvmvpV6"
      },
      "outputs": [],
      "source": [
        "out = tf.equal(pred,t)"
      ]
    },
    {
      "cell_type": "code",
      "execution_count": 11,
      "metadata": {
        "colab": {
          "base_uri": "https://localhost:8080/"
        },
        "id": "etE0XDfgwuJ9",
        "outputId": "e3b83769-0eb3-4b3c-e8f5-c7bd958f92af"
      },
      "outputs": [
        {
          "data": {
            "text/plain": [
              "<tf.Tensor: shape=(10,), dtype=bool, numpy=\n",
              "array([ True, False, False, False, False, False, False, False, False,\n",
              "       False])>"
            ]
          },
          "execution_count": 11,
          "metadata": {},
          "output_type": "execute_result"
        }
      ],
      "source": [
        "out"
      ]
    },
    {
      "cell_type": "code",
      "execution_count": 12,
      "metadata": {
        "id": "vhYuh4cHwv5j"
      },
      "outputs": [],
      "source": [
        "out =tf.math.greater(pred,t)#greater"
      ]
    },
    {
      "cell_type": "code",
      "execution_count": 13,
      "metadata": {
        "colab": {
          "base_uri": "https://localhost:8080/"
        },
        "id": "TaUXjxg9w966",
        "outputId": "13d12bf6-fff5-41c6-8fbd-f90296cd2d04"
      },
      "outputs": [
        {
          "data": {
            "text/plain": [
              "<tf.Tensor: shape=(10,), dtype=bool, numpy=\n",
              "array([False,  True, False, False,  True,  True,  True, False, False,\n",
              "        True])>"
            ]
          },
          "execution_count": 13,
          "metadata": {},
          "output_type": "execute_result"
        }
      ],
      "source": [
        "out"
      ]
    }
  ],
  "metadata": {
    "colab": {
      "provenance": []
    },
    "kernelspec": {
      "display_name": "Python 3",
      "name": "python3"
    },
    "language_info": {
      "codemirror_mode": {
        "name": "ipython",
        "version": 3
      },
      "file_extension": ".py",
      "mimetype": "text/x-python",
      "name": "python",
      "nbconvert_exporter": "python",
      "pygments_lexer": "ipython3",
      "version": "3.10.7"
    }
  },
  "nbformat": 4,
  "nbformat_minor": 0
}
