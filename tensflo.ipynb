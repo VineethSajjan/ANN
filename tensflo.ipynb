{
  "cells": [
    {
      "cell_type": "code",
      "execution_count": 1,
      "metadata": {
        "id": "Kg3KM_duucLT"
      },
      "outputs": [],
      "source": [
        "import tensorflow as tf"
      ]
    },
    {
      "cell_type": "code",
      "execution_count": 2,
      "metadata": {
        "id": "TTPD88G2ufdC"
      },
      "outputs": [],
      "source": [
        "out = tf.random.normal([10,10])"
      ]
    },
    {
      "cell_type": "code",
      "execution_count": 3,
      "metadata": {
        "colab": {
          "base_uri": "https://localhost:8080/"
        },
        "id": "pGpST9DWupBl",
        "outputId": "e3dc6d2b-c2f5-4224-a4ec-7935599245e3"
      },
      "outputs": [
        {
          "data": {
            "text/plain": [
              "<tf.Tensor: shape=(10, 10), dtype=float32, numpy=\n",
              "array([[ 0.19929945,  0.9361519 , -0.2362317 , -1.0283223 , -0.9298985 ,\n",
              "         1.085041  , -0.36366472, -0.26736924, -0.25325015,  1.087245  ],\n",
              "       [-0.9688182 , -0.11385972,  0.24780814,  0.44068086, -0.4133442 ,\n",
              "        -0.42571917,  0.86462224,  0.0339622 , -0.73208416,  1.0295212 ],\n",
              "       [ 0.0861766 , -1.6684247 , -0.6324727 , -0.86904013,  0.19711252,\n",
              "        -0.5303762 ,  1.1428748 ,  0.2193477 , -1.1258417 ,  1.061597  ],\n",
              "       [-1.0325513 ,  0.57039165, -0.7605583 ,  0.7927843 , -0.12288146,\n",
              "         0.8035709 ,  0.9203224 ,  0.04742539, -0.18319395, -0.83878696],\n",
              "       [ 1.7866217 , -1.005533  , -1.30395   , -0.01141103,  0.06236   ,\n",
              "         0.37483183, -1.2921824 ,  0.11333071,  0.36988765,  0.05057006],\n",
              "       [ 0.31877333,  0.86975837,  1.6315824 , -2.1294231 , -1.443429  ,\n",
              "        -1.7830676 ,  0.79917413, -1.1013936 , -0.82772994, -0.34650335],\n",
              "       [-0.7530053 ,  0.11318658,  0.28096667, -1.3423237 , -0.26709473,\n",
              "        -0.85880506,  1.0779021 ,  0.24734437,  0.31747785, -0.2736779 ],\n",
              "       [ 0.48548347, -1.7711968 ,  0.3738045 ,  1.1917336 , -0.54568744,\n",
              "         1.2421428 ,  0.77385855, -1.0748644 , -1.663589  , -0.43944356],\n",
              "       [-1.248442  , -0.1303714 , -1.2749552 ,  0.618725  , -0.15547256,\n",
              "         1.2398496 ,  1.0461156 , -1.123517  ,  0.26636326,  0.20162725],\n",
              "       [ 1.1274209 ,  0.28463182, -1.7251399 , -0.63391674, -0.01549793,\n",
              "         1.1630826 , -0.06518417, -1.2970757 , -0.6002742 ,  1.7414243 ]],\n",
              "      dtype=float32)>"
            ]
          },
          "execution_count": 3,
          "metadata": {},
          "output_type": "execute_result"
        }
      ],
      "source": [
        "out"
      ]
    },
    {
      "cell_type": "code",
      "execution_count": 4,
      "metadata": {
        "id": "ChRJp-dluq8v"
      },
      "outputs": [],
      "source": [
        "out = tf.nn.softmax(out,axis=1)"
      ]
    },
    {
      "cell_type": "code",
      "execution_count": 5,
      "metadata": {
        "colab": {
          "base_uri": "https://localhost:8080/"
        },
        "id": "vkymKE01u1fG",
        "outputId": "8aafeb8d-21e9-47a7-f3f1-b25c0923b1c5"
      },
      "outputs": [
        {
          "data": {
            "text/plain": [
              "<tf.Tensor: shape=(10, 10), dtype=float32, numpy=\n",
              "array([[0.09057909, 0.18925132, 0.05859751, 0.02653864, 0.02928354,\n",
              "        0.21963455, 0.05158646, 0.05680104, 0.05760871, 0.22011913],\n",
              "       [0.03133796, 0.07368421, 0.10579005, 0.1282946 , 0.05461476,\n",
              "        0.05394307, 0.19603056, 0.08542258, 0.03970846, 0.23117374],\n",
              "       [0.09370824, 0.0162093 , 0.04567435, 0.03605225, 0.1047024 ,\n",
              "        0.0505839 , 0.26958516, 0.10705655, 0.0278872 , 0.24854068],\n",
              "       [0.0279437 , 0.13881397, 0.03667828, 0.17338721, 0.06939825,\n",
              "        0.1752676 , 0.19697277, 0.08228333, 0.06533639, 0.03391835],\n",
              "       [0.42611885, 0.0261164 , 0.01937816, 0.07057568, 0.07597897,\n",
              "        0.10384801, 0.01960754, 0.07995207, 0.10333584, 0.07508844],\n",
              "       [0.10501797, 0.18220209, 0.39030966, 0.00907874, 0.01802805,\n",
              "        0.01283647, 0.16978487, 0.02538007, 0.03336902, 0.05399301],\n",
              "       [0.04393563, 0.10447183, 0.12355637, 0.02437133, 0.07142416,\n",
              "        0.0395247 , 0.27413836, 0.11947118, 0.12815093, 0.07095551],\n",
              "       [0.11667775, 0.01221587, 0.10434857, 0.23643325, 0.04160602,\n",
              "        0.24865718, 0.15567818, 0.02450968, 0.01360372, 0.04626977],\n",
              "       [0.02155563, 0.06593753, 0.02099163, 0.1394637 , 0.06430303,\n",
              "        0.25954467, 0.21383291, 0.0244239 , 0.09804657, 0.09190051],\n",
              "       [0.1840715 , 0.07924428, 0.01062026, 0.03162622, 0.05869798,\n",
              "        0.19075425, 0.05585277, 0.0162945 , 0.03270831, 0.3401299 ]],\n",
              "      dtype=float32)>"
            ]
          },
          "execution_count": 5,
          "metadata": {},
          "output_type": "execute_result"
        }
      ],
      "source": [
        "out"
      ]
    },
    {
      "cell_type": "code",
      "execution_count": 6,
      "metadata": {
        "id": "1-DZEKnJu23x"
      },
      "outputs": [],
      "source": [
        "pred = tf.argmax(out,axis=1)"
      ]
    },
    {
      "cell_type": "code",
      "execution_count": 7,
      "metadata": {
        "colab": {
          "base_uri": "https://localhost:8080/"
        },
        "id": "E95xfTbtvR4R",
        "outputId": "a7a4ffb2-dbb1-4096-a233-bd012164768a"
      },
      "outputs": [
        {
          "data": {
            "text/plain": [
              "<tf.Tensor: shape=(10,), dtype=int64, numpy=array([9, 9, 6, 6, 0, 2, 6, 5, 5, 9], dtype=int64)>"
            ]
          },
          "execution_count": 7,
          "metadata": {},
          "output_type": "execute_result"
        }
      ],
      "source": [
        "pred"
      ]
    },
    {
      "cell_type": "code",
      "execution_count": 8,
      "metadata": {
        "id": "GesFDfAsvTEB"
      },
      "outputs": [],
      "source": [
        "#stimulate the true values\n",
        "t=tf.random.uniform([10],dtype=tf.int64,maxval=10)"
      ]
    },
    {
      "cell_type": "code",
      "execution_count": 9,
      "metadata": {
        "colab": {
          "base_uri": "https://localhost:8080/"
        },
        "id": "-8Zk3rh1vnqX",
        "outputId": "b25900f4-f588-483a-f9eb-17d00c8d38da"
      },
      "outputs": [
        {
          "data": {
            "text/plain": [
              "<tf.Tensor: shape=(10,), dtype=int64, numpy=array([4, 5, 8, 6, 9, 3, 5, 8, 3, 5], dtype=int64)>"
            ]
          },
          "execution_count": 9,
          "metadata": {},
          "output_type": "execute_result"
        }
      ],
      "source": [
        "t"
      ]
    },
    {
      "cell_type": "code",
      "execution_count": 10,
      "metadata": {
        "id": "2X4iGgvmvpV6"
      },
      "outputs": [],
      "source": [
        "out = tf.equal(pred,t)"
      ]
    },
    {
      "cell_type": "code",
      "execution_count": 11,
      "metadata": {
        "colab": {
          "base_uri": "https://localhost:8080/"
        },
        "id": "etE0XDfgwuJ9",
        "outputId": "e3b83769-0eb3-4b3c-e8f5-c7bd958f92af"
      },
      "outputs": [
        {
          "data": {
            "text/plain": [
              "<tf.Tensor: shape=(10,), dtype=bool, numpy=\n",
              "array([False, False, False,  True, False, False, False, False, False,\n",
              "       False])>"
            ]
          },
          "execution_count": 11,
          "metadata": {},
          "output_type": "execute_result"
        }
      ],
      "source": [
        "out"
      ]
    },
    {
      "cell_type": "code",
      "execution_count": 12,
      "metadata": {
        "id": "vhYuh4cHwv5j"
      },
      "outputs": [],
      "source": [
        "out =tf.math.greater(pred,t)#greater"
      ]
    },
    {
      "cell_type": "code",
      "execution_count": 13,
      "metadata": {
        "colab": {
          "base_uri": "https://localhost:8080/"
        },
        "id": "TaUXjxg9w966",
        "outputId": "13d12bf6-fff5-41c6-8fbd-f90296cd2d04"
      },
      "outputs": [
        {
          "data": {
            "text/plain": [
              "<tf.Tensor: shape=(10,), dtype=bool, numpy=\n",
              "array([ True,  True, False, False, False, False,  True, False,  True,\n",
              "        True])>"
            ]
          },
          "execution_count": 13,
          "metadata": {},
          "output_type": "execute_result"
        }
      ],
      "source": [
        "out"
      ]
    }
  ],
  "metadata": {
    "colab": {
      "provenance": []
    },
    "kernelspec": {
      "display_name": "Python 3",
      "name": "python3"
    },
    "language_info": {
      "codemirror_mode": {
        "name": "ipython",
        "version": 3
      },
      "file_extension": ".py",
      "mimetype": "text/x-python",
      "name": "python",
      "nbconvert_exporter": "python",
      "pygments_lexer": "ipython3",
      "version": "3.10.7"
    }
  },
  "nbformat": 4,
  "nbformat_minor": 0
}
